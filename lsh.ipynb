{
 "cells": [
  {
   "cell_type": "code",
   "execution_count": 202,
   "metadata": {},
   "outputs": [],
   "source": [
    "a = \"flying fish flew by the space station\"\n",
    "b = \"we will not allow you to bring your pet armadillo along\"\n",
    "c = \"he figured a few sticks of dynamite were easier than a fishing pole to catch fish\""
   ]
  },
  {
   "cell_type": "code",
   "execution_count": 203,
   "metadata": {},
   "outputs": [
    {
     "name": "stdout",
     "output_type": "stream",
     "text": [
      "shingles_a {'ti', 'io', 'th', 'h ', 'ew', 'e ', 'in', 'by', 'is', 'yi', 'ta', 'at', 'he', ' s', 'sh', ' b', 'on', ' f', 'ce', 'pa', 'sp', 'le', 'y ', 'ac', 'ng', 'w ', 'st', 'fi', 'ly', ' t', 'fl', 'g '}\n",
      "shingles_b {'t ', 'ar', ' p', 'ma', 'ow', 'e ', 'wi', 'br', 'no', 'di', 'l ', ' a', 'al', 'in', ' y', 'we', 'et', 'pe', 'ri', 'ou', 'o ', ' n', 'ur', 'u ', ' b', 'ot', 'rm', 'on', 'to', 'lo', 'yo', 'ad', 'il', 'w ', 'ng', 'll', ' w', ' t', 'r ', 'g '}\n",
      "shingles_c {'ed', 'ti', 'mi', 'ie', 'hi', 'ch', 'th', 'ca', ' p', 'h ', 'ew', 'a ', 'e ', 'gu', 'ol', 'na', 'ea', 'it', ' a', 'in', 'is', 'yn', ' w', 'an', 'we', 'as', 'f ', ' o', 'am', 'te', 'at', 'he', 'fe', 'n ', 'ks', 'ur', 'po', ' s', 'o ', 'sh', 'ck', 'er', 'ic', ' e', ' f', 'tc', 'to', ' t', 'ha', 'ig', 'le', ' c', 'd ', 're', 'si', 'dy', 'w ', 'ng', 'st', 'fi', 's ', 'of', ' d', 'r ', 'g '}\n"
     ]
    }
   ],
   "source": [
    "import numpy as np\n",
    "\n",
    "def shingle(str, k = 2):\n",
    "    #result = set()\n",
    "    #for i in range(len(str) - k + 1):\n",
    "        #result.add(str[i:i+k])\n",
    "    result = []\n",
    "    for i in range(len(str) - k+1):\n",
    "        result.append(str[i:i+k])\n",
    "    return set(result)\n",
    "    return result\n",
    "\n",
    "shingles_a = shingle(a)\n",
    "shingles_b = shingle(b)\n",
    "shingles_c = shingle(c)\n",
    "sa = list(shingles_a)\n",
    "sb = list(shingles_b)\n",
    "sc = list(shingles_c)\n",
    "print(\"shingles_a\", shingles_a)\n",
    "print(\"shingles_b\", shingles_b)\n",
    "print(\"shingles_c\", shingles_c)"
   ]
  },
  {
   "cell_type": "code",
   "execution_count": 204,
   "metadata": {},
   "outputs": [
    {
     "name": "stdout",
     "output_type": "stream",
     "text": [
      "len vocab 102\n",
      "len shingles_a 32\n",
      "len shingles_b 40\n",
      "len shingles_c 65\n"
     ]
    }
   ],
   "source": [
    "vocab = list(shingles_a.union(shingles_b).union(shingles_c))\n",
    "\n",
    "print(\"len vocab\", len(vocab))\n",
    "print(\"len shingles_a\", len(sa))\n",
    "print(\"len shingles_b\", len(sb))\n",
    "print(\"len shingles_c\", len(sc))\n"
   ]
  },
  {
   "cell_type": "code",
   "execution_count": 206,
   "metadata": {},
   "outputs": [
    {
     "name": "stdout",
     "output_type": "stream",
     "text": [
      "sparce a [0. 1. 0. 0. 1. 1. 0. 1. 1. 1. 0. 0. 0. 0. 0. 1. 0. 0. 1. 0. 1. 0. 0. 0.\n",
      " 0. 1. 0. 0. 0. 1. 1. 1. 0. 0. 0. 1. 0. 0. 0. 1. 0. 1. 0. 1. 1. 0. 0. 0.\n",
      " 1. 1. 1. 1. 0. 0. 0. 0. 0. 1. 0. 0. 0. 0. 0. 0. 0. 0. 0. 0. 0. 0. 0. 1.\n",
      " 1. 0. 0. 0. 0. 0. 0. 1. 0. 0. 0. 0. 0. 0. 0. 1. 0. 0. 0. 1. 0. 0. 0. 0.\n",
      " 1. 0. 1. 1. 1. 0.]\n",
      "len sparce a 102\n"
     ]
    }
   ],
   "source": [
    "sparce_a = np.empty(len(vocab))\n",
    "sparce_b = np.empty(len(vocab))\n",
    "sparce_c = np.empty(len(vocab))\n",
    "for i in range(len(vocab)):\n",
    "    sparce_a[i] = 1 if vocab[i] in shingles_a else 0\n",
    "    sparce_b[i] = 1 if vocab[i] in shingles_b else 0\n",
    "    sparce_c[i] = 1 if vocab[i] in shingles_c else 0\n",
    "print(\"sparce a\", sparce_a)\n",
    "print(\"len sparce a\", len(sparce_a))"
   ]
  },
  {
   "cell_type": "code",
   "execution_count": 207,
   "metadata": {},
   "outputs": [
    {
     "data": {
      "text/plain": [
       "array([[0., 1., 0., 0., 1., 1., 0., 1., 1., 1., 0., 0., 0., 0., 0., 1.,\n",
       "        0., 0., 1., 0., 1., 0., 0., 0., 0., 1., 0., 0., 0., 1., 1., 1.,\n",
       "        0., 0., 0., 1., 0., 0., 0., 1., 0., 1., 0., 1., 1., 0., 0., 0.,\n",
       "        1., 1., 1., 1., 0., 0., 0., 0., 0., 1., 0., 0., 0., 0., 0., 0.,\n",
       "        0., 0., 0., 0., 0., 0., 0., 1., 1., 0., 0., 0., 0., 0., 0., 1.,\n",
       "        0., 0., 0., 0., 0., 0., 0., 1., 0., 0., 0., 1., 0., 0., 0., 0.,\n",
       "        1., 0., 1., 1., 1., 0.],\n",
       "       [0., 0., 0., 0., 0., 0., 1., 0., 0., 1., 0., 0., 1., 0., 0., 1.,\n",
       "        1., 1., 0., 0., 0., 1., 0., 1., 0., 0., 1., 0., 1., 0., 0., 1.,\n",
       "        1., 1., 0., 0., 0., 1., 0., 0., 0., 0., 0., 0., 0., 1., 0., 0.,\n",
       "        0., 1., 1., 0., 1., 1., 1., 0., 0., 1., 0., 0., 1., 1., 0., 1.,\n",
       "        1., 1., 1., 1., 1., 0., 0., 0., 0., 1., 1., 0., 0., 0., 0., 0.,\n",
       "        0., 1., 0., 1., 1., 0., 0., 1., 1., 0., 1., 0., 0., 0., 1., 0.,\n",
       "        0., 0., 0., 1., 0., 1.],\n",
       "       [1., 1., 1., 1., 0., 1., 0., 1., 1., 1., 1., 1., 0., 1., 1., 1.,\n",
       "        1., 0., 1., 1., 0., 1., 1., 0., 1., 1., 0., 1., 0., 1., 1., 0.,\n",
       "        0., 0., 1., 1., 1., 1., 1., 0., 1., 0., 1., 1., 0., 0., 1., 1.,\n",
       "        0., 1., 1., 1., 0., 0., 1., 1., 1., 1., 1., 1., 0., 0., 1., 1.,\n",
       "        0., 0., 0., 0., 0., 1., 1., 0., 0., 0., 0., 1., 1., 1., 1., 1.,\n",
       "        1., 0., 1., 1., 1., 1., 1., 0., 0., 1., 0., 0., 1., 1., 0., 1.,\n",
       "        1., 1., 0., 1., 0., 1.]])"
      ]
     },
     "execution_count": 207,
     "metadata": {},
     "output_type": "execute_result"
    }
   ],
   "source": [
    "sentences = np.array([sparce_a, sparce_b, sparce_c])\n",
    "sentences"
   ]
  },
  {
   "cell_type": "code",
   "execution_count": 208,
   "metadata": {},
   "outputs": [
    {
     "data": {
      "text/plain": [
       "(40, 3)"
      ]
     },
     "execution_count": 208,
     "metadata": {},
     "output_type": "execute_result"
    }
   ],
   "source": [
    "def get_MinHash(sentences, num = 2):\n",
    "    row_numbers = list(range(1, len(sentences[0])+1))\n",
    "    shuffle = row_numbers\n",
    "    signature = np.empty([num, len(sentences)])\n",
    "    \n",
    "    for sh in range(num):\n",
    "        np.random.shuffle(shuffle)\n",
    "        \n",
    "        for j in range(len(sentences)):            \n",
    "            i = 0\n",
    "            while sentences[j][shuffle[i] - 1]== 0 and i < len(shuffle):\n",
    "                i += 1\n",
    "            signature[sh][j] = shuffle[i]\n",
    "            \n",
    "    return signature\n",
    "\n",
    "signature = get_MinHash(sentences, 40)\n",
    "signature.shape"
   ]
  },
  {
   "cell_type": "code",
   "execution_count": 209,
   "metadata": {},
   "outputs": [
    {
     "name": "stdout",
     "output_type": "stream",
     "text": [
      "jaccard a b  (0.125, 0.047619047619047616)\n",
      "jaccard a c  (0.24358974358974358, 0.15)\n",
      "jaccard b c (0.15384615384615385, 0.1111111111111111)\n"
     ]
    }
   ],
   "source": [
    "def jaccard(a: set, b: set):\n",
    "    return len(a.intersection(b)) / len(a.union(b))\n",
    "\n",
    "print(\"jaccard a b \", (jaccard(shingles_a, shingles_b), jaccard(set(signature[:, 0]), set(signature[:,1]))))\n",
    "print(\"jaccard a c \", (jaccard(shingles_a, shingles_c), jaccard(set(signature[:, 0]), set(signature[:,2]))))\n",
    "print(\"jaccard b c\", (jaccard(shingles_b, shingles_c), jaccard(set(signature[:, 1]), set(signature[:,2]))))"
   ]
  },
  {
   "cell_type": "code",
   "execution_count": 210,
   "metadata": {},
   "outputs": [
    {
     "data": {
      "text/plain": [
       "[array([[  8.,  91.,  41.],\n",
       "        [100.,  61.,  39.]]),\n",
       " array([[49., 69., 96.],\n",
       "        [ 8., 18., 15.]]),\n",
       " array([[44., 38., 41.],\n",
       "        [42., 89., 64.]]),\n",
       " array([[97., 50., 97.],\n",
       "        [73., 85.,  4.]]),\n",
       " array([[ 92., 102., 102.],\n",
       "        [  2.,  82.,   2.]]),\n",
       " array([[50., 85., 85.],\n",
       "        [72., 29., 86.]]),\n",
       " array([[  9.,  13.,   9.],\n",
       "        [ 30., 102.,   1.]]),\n",
       " array([[45., 61., 64.],\n",
       "        [40., 75., 22.]]),\n",
       " array([[19., 29., 19.],\n",
       "        [ 9., 18.,  9.]]),\n",
       " array([[92., 68., 11.],\n",
       "        [ 8.,  7., 93.]]),\n",
       " array([[97., 84., 84.],\n",
       "        [45., 84., 84.]]),\n",
       " array([[97., 38., 97.],\n",
       "        [99., 91., 70.]]),\n",
       " array([[ 2., 88.,  2.],\n",
       "        [88., 65., 41.]]),\n",
       " array([[40., 89., 85.],\n",
       "        [31., 61., 81.]]),\n",
       " array([[52., 82., 52.],\n",
       "        [42., 55., 55.]]),\n",
       " array([[30., 67., 30.],\n",
       "        [ 2., 38.,  2.]]),\n",
       " array([[50., 22., 22.],\n",
       "        [40., 75., 35.]]),\n",
       " array([[ 40.,  74.,  28.],\n",
       "        [ 92., 102., 102.]]),\n",
       " array([[40., 58., 86.],\n",
       "        [45., 46., 41.]]),\n",
       " array([[44., 68., 83.],\n",
       "        [88., 88., 28.]])]"
      ]
     },
     "execution_count": 210,
     "metadata": {},
     "output_type": "execute_result"
    }
   ],
   "source": [
    "def get_split_vector(signature, bands):\n",
    "    r = int(signature.shape[0]/bands)\n",
    "    subvectors = []\n",
    "    for i in range(0, len(signature), r):\n",
    "        subvectors.append(signature[i : i+r])\n",
    "    return subvectors\n",
    "\n",
    "subvectors = get_split_vector(signature, bands = 20)\n",
    "subvectors"
   ]
  },
  {
   "cell_type": "code",
   "execution_count": 211,
   "metadata": {},
   "outputs": [
    {
     "name": "stdout",
     "output_type": "stream",
     "text": [
      "candidates pair [19.  9.]\n",
      "s1, s2 (0, 2)\n",
      "candidates pair [30.  2.]\n",
      "s1, s2 (0, 2)\n",
      "candidates pair [84. 84.]\n",
      "s1, s2 (1, 2)\n"
     ]
    }
   ],
   "source": [
    "for s1 in range(subvectors[0].shape[1] - 1):\n",
    "    for s2 in range(s1 + 1, subvectors[0].shape[1]):\n",
    "        for i in range(len(subvectors)):     \n",
    "            if np.array_equal(subvectors[i][:, s1],subvectors[i][:, s2]):\n",
    "                print(\"candidates pair\", subvectors[i][:, s1])\n",
    "                print(\"s1, s2\", (s1, s2))\n",
    "                "
   ]
  }
 ],
 "metadata": {
  "kernelspec": {
   "display_name": "ml-env",
   "language": "python",
   "name": "python3"
  },
  "language_info": {
   "codemirror_mode": {
    "name": "ipython",
    "version": 3
   },
   "file_extension": ".py",
   "mimetype": "text/x-python",
   "name": "python",
   "nbconvert_exporter": "python",
   "pygments_lexer": "ipython3",
   "version": "3.12.3"
  },
  "orig_nbformat": 4
 },
 "nbformat": 4,
 "nbformat_minor": 2
}
