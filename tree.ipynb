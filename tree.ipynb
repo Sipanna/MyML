{
 "cells": [
  {
   "cell_type": "code",
   "execution_count": 64,
   "metadata": {},
   "outputs": [],
   "source": [
    "import numpy as np\n",
    "from sklearn.datasets import make_classification\n",
    "from sklearn.model_selection import train_test_split\n",
    "from sklearn.metrics import accuracy_score\n",
    "\n",
    "X, y = make_classification(n_samples = 200, n_features = 2, n_informative=2, n_redundant=0, n_repeated=0, n_classes=2)\n",
    "X_train, X_test, y_train, y_test = train_test_split(X, y, train_size=0.8)\n",
    "\n",
    "def H(y):\n",
    "    classes = np.unique(y, return_counts=True)\n",
    "    h = 0\n",
    "    k = len(y)\n",
    "    for i in range(len(classes[1])):\n",
    "        p = classes[1][i]/k\n",
    "        h -= p*np.log2(p)\n",
    "    return h\n",
    "\n",
    "def IG(y, yl, yr):\n",
    "    r = len(y)\n",
    "    rl = len(yl)\n",
    "    rr = len(yr)\n",
    "    Ig = H(y) - rl*H(yl)/r - rr*H(yr)/r\n",
    "    return Ig\n",
    "\n",
    "        "
   ]
  },
  {
   "cell_type": "code",
   "execution_count": 65,
   "metadata": {},
   "outputs": [
    {
     "data": {
      "text/plain": [
       "(1, 0.2572553887229898)"
      ]
     },
     "execution_count": 65,
     "metadata": {},
     "output_type": "execute_result"
    }
   ],
   "source": [
    "def get_best_partition(X, y):\n",
    "    best_f = 0\n",
    "    best_value = 0\n",
    "    best_IG = 0 \n",
    "    for f in range(X.shape[1]):    \n",
    "        values = np.unique(X[:, f])\n",
    "        for value in values:\n",
    "            yl = y[X[:,f] < value]\n",
    "            yr = y[X[:, f] >= value]\n",
    "            Ig = IG(y, yl=yl, yr = yr)\n",
    "            if Ig > best_IG:\n",
    "                best_IG = Ig\n",
    "                best_f = f\n",
    "                best_value = value\n",
    "    return best_f, best_value\n",
    "\n",
    "get_best_partition(X, y)\n"
   ]
  },
  {
   "cell_type": "code",
   "execution_count": 67,
   "metadata": {},
   "outputs": [
    {
     "data": {
      "image/png": "[encoded data removed]",
      "text/plain": [
       "<Figure size 640x480 with 1 Axes>"
      ]
     },
     "metadata": {},
     "output_type": "display_data"
    },
    {
     "data": {
      "text/plain": [
       "{'f': 1,\n",
       " 'value': 0.2572553887229898,\n",
       " 'left': {'f': 1,\n",
       "  'value': -0.4479435521148749,\n",
       "  'left': {'f': 0,\n",
       "   'value': 0,\n",
       "   'left': {'f': -1, 'class': 0, 'p': 0.0},\n",
       "   'right': {'f': -1, 'class': 0, 'p': 0.0}},\n",
       "  'right': {'f': 0,\n",
       "   'value': -0.5121934912657302,\n",
       "   'left': {'f': -1, 'class': 0, 'p': 0.0},\n",
       "   'right': {'f': -1, 'class': 0, 'p': 0.8812908992306927}}},\n",
       " 'right': {'f': 1,\n",
       "  'value': 0.5574713071691777,\n",
       "  'left': {'f': 1,\n",
       "   'value': 0.4988841438379208,\n",
       "   'left': {'f': -1, 'class': 1, 'p': 0.7219280948873623},\n",
       "   'right': {'f': -1, 'class': 0, 'p': 0.0}},\n",
       "  'right': {'f': 0,\n",
       "   'value': 0.973395876409147,\n",
       "   'left': {'f': -1, 'class': 1, 'p': 0.0},\n",
       "   'right': {'f': -1, 'class': 1, 'p': 0.23519338181924143}}}}"
      ]
     },
     "execution_count": 67,
     "metadata": {},
     "output_type": "execute_result"
    }
   ],
   "source": [
    "import matplotlib.pyplot as plt\n",
    "sX = sorted(X_train[:, 0])\n",
    "plt.scatter(X_train[y_train==1][:, 0], X_train[y_train==1][:, 1], color='red')\n",
    "plt.scatter(X_train[y_train==0][:, 0], X_train[y_train==0][:, 1], color='blue')\n",
    "\n",
    "sX = sorted(X_test[:, 0])\n",
    "plt.scatter(X_test[y_test==1][:, 0], X_test[y_test==1][:, 1], color='pink')\n",
    "plt.scatter(X_test[y_test==0][:, 0], X_test[y_test==0][:, 1], color='black')\n",
    "\n",
    "def get_tree(X, y, depth):\n",
    "    f, value = get_best_partition(X, y)\n",
    "    if depth > 1:\n",
    "        if f == 0:\n",
    "            plt.axvline(x=value, label = depth)\n",
    "        else:\n",
    "            plt.axhline(y=value, label = depth)\n",
    "        if len(y[X[:,f] < value]) > 0:\n",
    "            left_tree = get_tree(X[X[:,f] < value], y[X[:,f] < value], depth - 1)\n",
    "        else:\n",
    "            left_tree = {}\n",
    "        if len(y[X[:,f] >= value]) > 0: \n",
    "            right_tree = get_tree(X[X[:,f] >= value], y[X[:,f] >= value], depth - 1)\n",
    "        else:\n",
    "            right_tree = {}\n",
    "        if right_tree=={} or left_tree=={}:\n",
    "            return {\"f\":-1, \"class\":get_result(y)[0], \"p\" : get_result(y)[1] }\n",
    "        return {\"f\" : f, \"value\" : value, \"left\" :  left_tree, \n",
    "                \"right\" : right_tree}\n",
    "    else:\n",
    "        return {\"f\" : -1, \"class\":get_result(y)[0], \"p\" : get_result(y)[1]}\n",
    "    \n",
    "def get_result(y):\n",
    "    h = H(y)\n",
    "    classes = np.unique(y, return_counts=True)\n",
    "    ind = np.argmax(classes[1])\n",
    "    cl = classes[0][ind]\n",
    "    return (cl, h)\n",
    "    \n",
    "tree = get_tree(X_train, y_train, 4)\n",
    "plt.legend(loc=\"upper left\")\n",
    "plt.show()\n",
    "tree\n"
   ]
  },
  {
   "cell_type": "code",
   "execution_count": 68,
   "metadata": {},
   "outputs": [
    {
     "data": {
      "text/plain": [
       "0.875"
      ]
     },
     "execution_count": 68,
     "metadata": {},
     "output_type": "execute_result"
    }
   ],
   "source": [
    "\n",
    "def predict_item(tree, x):\n",
    "    if tree['f'] != -1:\n",
    "        ind = tree['f']\n",
    "        if x[ind] < tree['value']:\n",
    "            return predict_item(tree['left'], x)\n",
    "        else:\n",
    "            return predict_item(tree['right'], x)\n",
    "    else:\n",
    "        return tree['class']\n",
    "\n",
    "def predict(tree, X):\n",
    "    y_pred = []\n",
    "    for x in X:\n",
    "        yi = predict_item(tree, x)\n",
    "        y_pred.append(yi)\n",
    "    return y_pred\n",
    "\n",
    "y_pred = predict(tree, X_test)\n",
    "accuracy_score(y_test, y_pred)\n"
   ]
  }
 ],
 "metadata": {
  "kernelspec": {
   "display_name": "ml-env",
   "language": "python",
   "name": "python3"
  },
  "language_info": {
   "codemirror_mode": {
    "name": "ipython",
    "version": 3
   },
   "file_extension": ".py",
   "mimetype": "text/x-python",
   "name": "python",
   "nbconvert_exporter": "python",
   "pygments_lexer": "ipython3",
   "version": "3.12.3"
  },
  "orig_nbformat": 4
 },
 "nbformat": 4,
 "nbformat_minor": 2
}
