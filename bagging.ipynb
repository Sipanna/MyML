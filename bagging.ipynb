{
 "cells": [
  {
   "cell_type": "code",
   "execution_count": 51,
   "metadata": {},
   "outputs": [],
   "source": [
    "import numpy as np\n",
    "from sklearn.datasets import make_classification\n",
    "from sklearn.model_selection import train_test_split\n",
    "from sklearn.metrics import accuracy_score\n",
    "from models.tree import DecisionTree\n",
    "\n",
    "X, y = make_classification(n_samples = 200, n_features = 3, n_informative=2, n_redundant=0, n_repeated=0, n_classes=2)\n",
    "X_train, X_test, y_train, y_test = train_test_split(X, y, train_size=0.8)"
   ]
  },
  {
   "cell_type": "code",
   "execution_count": 52,
   "metadata": {},
   "outputs": [
    {
     "data": {
      "text/plain": [
       "0.85"
      ]
     },
     "execution_count": 52,
     "metadata": {},
     "output_type": "execute_result"
    }
   ],
   "source": [
    "tree = DecisionTree(max_depth=5)\n",
    "tree.fit(X_train, y_train)\n",
    "y_pred = tree.predict(X_test)\n",
    "score = accuracy_score(y_test, y_pred)\n",
    "score"
   ]
  },
  {
   "cell_type": "markdown",
   "metadata": {},
   "source": [
    "<h1>Бутсрап и бэггинг</h1>"
   ]
  },
  {
   "cell_type": "code",
   "execution_count": 53,
   "metadata": {},
   "outputs": [
    {
     "data": {
      "text/plain": [
       "0.9"
      ]
     },
     "execution_count": 53,
     "metadata": {},
     "output_type": "execute_result"
    }
   ],
   "source": [
    "def getSample(X, y, n_samples = 20):\n",
    "    l = len(y)\n",
    "    idx = np.random.choice(l, n_samples)\n",
    "    return X[idx], y[idx]\n",
    "\n",
    "\n",
    "def bagging(X, y, n_samples, n_estimator = 5):\n",
    "    trees = []\n",
    "    for i in range(n_estimator):\n",
    "        Xn, yn = getSample(X, y, n_samples)\n",
    "        tree = DecisionTree(max_depth=5)\n",
    "        tree.fit(Xn, yn)\n",
    "        trees.append(tree)\n",
    "    return trees\n",
    "\n",
    "def predict(X_test, trees):\n",
    "    y_pred = np.empty([len(trees), X_test.shape[0]])\n",
    "    for i, tree in enumerate(trees):\n",
    "        yp = tree.predict(X_test)\n",
    "        y_pred[i, :] = yp\n",
    "    y_predicted = y_pred.sum(axis=0)/len(trees)\n",
    "    return [0 if y < 0.5 else 1 for y in y_predicted]\n",
    "    \n",
    "trees = bagging(X_train, y_train, n_samples=X_train.shape[0] )\n",
    "y_pred = predict(X_test, trees)\n",
    "score = accuracy_score(y_test, y_pred)\n",
    "score\n"
   ]
  }
 ],
 "metadata": {
  "kernelspec": {
   "display_name": "ml-env",
   "language": "python",
   "name": "python3"
  },
  "language_info": {
   "codemirror_mode": {
    "name": "ipython",
    "version": 3
   },
   "file_extension": ".py",
   "mimetype": "text/x-python",
   "name": "python",
   "nbconvert_exporter": "python",
   "pygments_lexer": "ipython3",
   "version": "3.12.3"
  },
  "orig_nbformat": 4
 },
 "nbformat": 4,
 "nbformat_minor": 2
}
